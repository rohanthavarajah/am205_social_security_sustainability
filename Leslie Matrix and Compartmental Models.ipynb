{
 "cells": [
  {
   "cell_type": "code",
   "execution_count": 154,
   "metadata": {
    "collapsed": true
   },
   "outputs": [],
   "source": [
    "import numpy as np\n",
    "import matplotlib.pyplot as plt\n",
    "%matplotlib inline  \n",
    "from math import *\n",
    "import sys\n",
    "from skimage import io\n",
    "from time import clock,time\n",
    "import pandas as pd\n",
    "from scipy import optimize\n",
    "from scipy import integrate\n",
    "from scipy.integrate import odeint\n",
    "from scipy.linalg import eig\n",
    "from scipy.linalg import leslie\n",
    "import pandas as pd"
   ]
  },
  {
   "cell_type": "markdown",
   "metadata": {},
   "source": [
    "# Leslie Matrix"
   ]
  },
  {
   "cell_type": "code",
   "execution_count": 155,
   "metadata": {
    "collapsed": false
   },
   "outputs": [],
   "source": [
    "data = pd.read_csv(\"data/YearAgePopBirthDeathData.csv\")"
   ]
  },
  {
   "cell_type": "code",
   "execution_count": 174,
   "metadata": {
    "collapsed": false
   },
   "outputs": [],
   "source": [
    "y2015 = data[data['YEAR'] == 1990]"
   ]
  },
  {
   "cell_type": "code",
   "execution_count": 175,
   "metadata": {
    "collapsed": true
   },
   "outputs": [],
   "source": [
    "# Bins need to be divided into 5-year chunks\n",
    "population = y2015['POPULATION'].values\n",
    "birth = y2015['BIRTH RATE'].values\n",
    "death = y2015['DEATH RATE'].values\n",
    "bucket_population = [population[0]]\n",
    "birth_rates = [birth[0]]\n",
    "death_rates = [death[0]]\n",
    "for i,p in enumerate(population[1:]):\n",
    "    \n",
    "    # In each half-bucket, place half of the population, and assume the birth rates are the same in the two half-buckets\n",
    "    half = int(p/2)\n",
    "    bucket_population.append(half)\n",
    "    bucket_population.append(half)\n",
    "    \n",
    "    birth_rates.append(birth[i])\n",
    "    birth_rates.append(birth[i])\n",
    "    \n",
    "    death_rates.append(death[i])\n",
    "    death_rates.append(death[i])\n"
   ]
  },
  {
   "cell_type": "code",
   "execution_count": 176,
   "metadata": {
    "collapsed": false
   },
   "outputs": [
    {
     "data": {
      "text/html": [
       "<div>\n",
       "<table border=\"1\" class=\"dataframe\">\n",
       "  <thead>\n",
       "    <tr style=\"text-align: right;\">\n",
       "      <th></th>\n",
       "      <th>YEAR</th>\n",
       "      <th>AGE GROUP</th>\n",
       "      <th>POPULATION</th>\n",
       "      <th>BIRTH RATE</th>\n",
       "      <th>DEATH RATE</th>\n",
       "      <th>Unnamed: 5</th>\n",
       "      <th>Unnamed: 6</th>\n",
       "      <th>Unnamed: 7</th>\n",
       "      <th>Unnamed: 8</th>\n",
       "      <th>Unnamed: 9</th>\n",
       "    </tr>\n",
       "  </thead>\n",
       "  <tbody>\n",
       "    <tr>\n",
       "      <th>0</th>\n",
       "      <td>1990</td>\n",
       "      <td>&lt;4</td>\n",
       "      <td>18887075.0</td>\n",
       "      <td>0.0000</td>\n",
       "      <td>0.003161</td>\n",
       "      <td>NaN</td>\n",
       "      <td>NaN</td>\n",
       "      <td>NaN</td>\n",
       "      <td>NaN</td>\n",
       "      <td>NaN</td>\n",
       "    </tr>\n",
       "    <tr>\n",
       "      <th>1</th>\n",
       "      <td>1990</td>\n",
       "      <td>5-14</td>\n",
       "      <td>35360381.0</td>\n",
       "      <td>0.0014</td>\n",
       "      <td>0.000175</td>\n",
       "      <td>NaN</td>\n",
       "      <td>NaN</td>\n",
       "      <td>NaN</td>\n",
       "      <td>NaN</td>\n",
       "      <td>NaN</td>\n",
       "    </tr>\n",
       "    <tr>\n",
       "      <th>2</th>\n",
       "      <td>1990</td>\n",
       "      <td>15-24</td>\n",
       "      <td>36193896.0</td>\n",
       "      <td>0.0882</td>\n",
       "      <td>0.000526</td>\n",
       "      <td>NaN</td>\n",
       "      <td>NaN</td>\n",
       "      <td>NaN</td>\n",
       "      <td>NaN</td>\n",
       "      <td>NaN</td>\n",
       "    </tr>\n",
       "    <tr>\n",
       "      <th>3</th>\n",
       "      <td>1990</td>\n",
       "      <td>25-34</td>\n",
       "      <td>42574509.0</td>\n",
       "      <td>0.1005</td>\n",
       "      <td>0.001034</td>\n",
       "      <td>NaN</td>\n",
       "      <td>NaN</td>\n",
       "      <td>NaN</td>\n",
       "      <td>NaN</td>\n",
       "      <td>NaN</td>\n",
       "    </tr>\n",
       "    <tr>\n",
       "      <th>4</th>\n",
       "      <td>1990</td>\n",
       "      <td>35-44</td>\n",
       "      <td>37649458.0</td>\n",
       "      <td>0.0186</td>\n",
       "      <td>0.002296</td>\n",
       "      <td>NaN</td>\n",
       "      <td>NaN</td>\n",
       "      <td>NaN</td>\n",
       "      <td>NaN</td>\n",
       "      <td>NaN</td>\n",
       "    </tr>\n",
       "    <tr>\n",
       "      <th>5</th>\n",
       "      <td>1990</td>\n",
       "      <td>45-54</td>\n",
       "      <td>25242747.0</td>\n",
       "      <td>0.0002</td>\n",
       "      <td>0.005383</td>\n",
       "      <td>NaN</td>\n",
       "      <td>NaN</td>\n",
       "      <td>NaN</td>\n",
       "      <td>NaN</td>\n",
       "      <td>NaN</td>\n",
       "    </tr>\n",
       "    <tr>\n",
       "      <th>6</th>\n",
       "      <td>1990</td>\n",
       "      <td>55-64</td>\n",
       "      <td>21096727.0</td>\n",
       "      <td>0.0000</td>\n",
       "      <td>0.010976</td>\n",
       "      <td>NaN</td>\n",
       "      <td>NaN</td>\n",
       "      <td>NaN</td>\n",
       "      <td>NaN</td>\n",
       "      <td>NaN</td>\n",
       "    </tr>\n",
       "    <tr>\n",
       "      <th>7</th>\n",
       "      <td>1990</td>\n",
       "      <td>65-74</td>\n",
       "      <td>18121686.0</td>\n",
       "      <td>0.0000</td>\n",
       "      <td>0.022607</td>\n",
       "      <td>NaN</td>\n",
       "      <td>NaN</td>\n",
       "      <td>NaN</td>\n",
       "      <td>NaN</td>\n",
       "      <td>NaN</td>\n",
       "    </tr>\n",
       "    <tr>\n",
       "      <th>8</th>\n",
       "      <td>1990</td>\n",
       "      <td>75+</td>\n",
       "      <td>13181238.0</td>\n",
       "      <td>0.0000</td>\n",
       "      <td>0.149377</td>\n",
       "      <td>NaN</td>\n",
       "      <td>NaN</td>\n",
       "      <td>NaN</td>\n",
       "      <td>NaN</td>\n",
       "      <td>NaN</td>\n",
       "    </tr>\n",
       "  </tbody>\n",
       "</table>\n",
       "</div>"
      ],
      "text/plain": [
       "   YEAR AGE GROUP  POPULATION  BIRTH RATE  DEATH RATE  Unnamed: 5  Unnamed: 6  \\\n",
       "0  1990        <4  18887075.0      0.0000    0.003161         NaN         NaN   \n",
       "1  1990      5-14  35360381.0      0.0014    0.000175         NaN         NaN   \n",
       "2  1990     15-24  36193896.0      0.0882    0.000526         NaN         NaN   \n",
       "3  1990     25-34  42574509.0      0.1005    0.001034         NaN         NaN   \n",
       "4  1990     35-44  37649458.0      0.0186    0.002296         NaN         NaN   \n",
       "5  1990     45-54  25242747.0      0.0002    0.005383         NaN         NaN   \n",
       "6  1990     55-64  21096727.0      0.0000    0.010976         NaN         NaN   \n",
       "7  1990     65-74  18121686.0      0.0000    0.022607         NaN         NaN   \n",
       "8  1990       75+  13181238.0      0.0000    0.149377         NaN         NaN   \n",
       "\n",
       "   Unnamed: 7  Unnamed: 8  Unnamed: 9  \n",
       "0         NaN         NaN         NaN  \n",
       "1         NaN         NaN         NaN  \n",
       "2         NaN         NaN         NaN  \n",
       "3         NaN         NaN         NaN  \n",
       "4         NaN         NaN         NaN  \n",
       "5         NaN         NaN         NaN  \n",
       "6         NaN         NaN         NaN  \n",
       "7         NaN         NaN         NaN  \n",
       "8         NaN         NaN         NaN  "
      ]
     },
     "execution_count": 176,
     "metadata": {},
     "output_type": "execute_result"
    }
   ],
   "source": [
    "y2015"
   ]
  },
  {
   "cell_type": "code",
   "execution_count": 177,
   "metadata": {
    "collapsed": false,
    "scrolled": true
   },
   "outputs": [
    {
     "data": {
      "text/plain": [
       "array([[ 0.        ,  0.        ,  0.        ,  0.007     ,  0.007     ,\n",
       "         0.441     ,  0.441     ,  0.5025    ,  0.5025    ,  0.093     ,\n",
       "         0.093     ,  0.001     ,  0.001     ,  0.        ,  0.        ,\n",
       "         0.        ,  0.        ],\n",
       "       [ 0.9968385 ,  0.        ,  0.        ,  0.        ,  0.        ,\n",
       "         0.        ,  0.        ,  0.        ,  0.        ,  0.        ,\n",
       "         0.        ,  0.        ,  0.        ,  0.        ,  0.        ,\n",
       "         0.        ,  0.        ],\n",
       "       [ 0.        ,  0.9968385 ,  0.        ,  0.        ,  0.        ,\n",
       "         0.        ,  0.        ,  0.        ,  0.        ,  0.        ,\n",
       "         0.        ,  0.        ,  0.        ,  0.        ,  0.        ,\n",
       "         0.        ,  0.        ],\n",
       "       [ 0.        ,  0.        ,  0.9968385 ,  0.        ,  0.        ,\n",
       "         0.        ,  0.        ,  0.        ,  0.        ,  0.        ,\n",
       "         0.        ,  0.        ,  0.        ,  0.        ,  0.        ,\n",
       "         0.        ,  0.        ],\n",
       "       [ 0.        ,  0.        ,  0.        ,  0.99982509,  0.        ,\n",
       "         0.        ,  0.        ,  0.        ,  0.        ,  0.        ,\n",
       "         0.        ,  0.        ,  0.        ,  0.        ,  0.        ,\n",
       "         0.        ,  0.        ],\n",
       "       [ 0.        ,  0.        ,  0.        ,  0.        ,  0.99982509,\n",
       "         0.        ,  0.        ,  0.        ,  0.        ,  0.        ,\n",
       "         0.        ,  0.        ,  0.        ,  0.        ,  0.        ,\n",
       "         0.        ,  0.        ],\n",
       "       [ 0.        ,  0.        ,  0.        ,  0.        ,  0.        ,\n",
       "         0.9994736 ,  0.        ,  0.        ,  0.        ,  0.        ,\n",
       "         0.        ,  0.        ,  0.        ,  0.        ,  0.        ,\n",
       "         0.        ,  0.        ],\n",
       "       [ 0.        ,  0.        ,  0.        ,  0.        ,  0.        ,\n",
       "         0.        ,  0.9994736 ,  0.        ,  0.        ,  0.        ,\n",
       "         0.        ,  0.        ,  0.        ,  0.        ,  0.        ,\n",
       "         0.        ,  0.        ],\n",
       "       [ 0.        ,  0.        ,  0.        ,  0.        ,  0.        ,\n",
       "         0.        ,  0.        ,  0.9989664 ,  0.        ,  0.        ,\n",
       "         0.        ,  0.        ,  0.        ,  0.        ,  0.        ,\n",
       "         0.        ,  0.        ],\n",
       "       [ 0.        ,  0.        ,  0.        ,  0.        ,  0.        ,\n",
       "         0.        ,  0.        ,  0.        ,  0.9989664 ,  0.        ,\n",
       "         0.        ,  0.        ,  0.        ,  0.        ,  0.        ,\n",
       "         0.        ,  0.        ],\n",
       "       [ 0.        ,  0.        ,  0.        ,  0.        ,  0.        ,\n",
       "         0.        ,  0.        ,  0.        ,  0.        ,  0.9977038 ,\n",
       "         0.        ,  0.        ,  0.        ,  0.        ,  0.        ,\n",
       "         0.        ,  0.        ],\n",
       "       [ 0.        ,  0.        ,  0.        ,  0.        ,  0.        ,\n",
       "         0.        ,  0.        ,  0.        ,  0.        ,  0.        ,\n",
       "         0.9977038 ,  0.        ,  0.        ,  0.        ,  0.        ,\n",
       "         0.        ,  0.        ],\n",
       "       [ 0.        ,  0.        ,  0.        ,  0.        ,  0.        ,\n",
       "         0.        ,  0.        ,  0.        ,  0.        ,  0.        ,\n",
       "         0.        ,  0.9946175 ,  0.        ,  0.        ,  0.        ,\n",
       "         0.        ,  0.        ],\n",
       "       [ 0.        ,  0.        ,  0.        ,  0.        ,  0.        ,\n",
       "         0.        ,  0.        ,  0.        ,  0.        ,  0.        ,\n",
       "         0.        ,  0.        ,  0.9946175 ,  0.        ,  0.        ,\n",
       "         0.        ,  0.        ],\n",
       "       [ 0.        ,  0.        ,  0.        ,  0.        ,  0.        ,\n",
       "         0.        ,  0.        ,  0.        ,  0.        ,  0.        ,\n",
       "         0.        ,  0.        ,  0.        ,  0.9890242 ,  0.        ,\n",
       "         0.        ,  0.        ],\n",
       "       [ 0.        ,  0.        ,  0.        ,  0.        ,  0.        ,\n",
       "         0.        ,  0.        ,  0.        ,  0.        ,  0.        ,\n",
       "         0.        ,  0.        ,  0.        ,  0.        ,  0.9890242 ,\n",
       "         0.        ,  0.        ],\n",
       "       [ 0.        ,  0.        ,  0.        ,  0.        ,  0.        ,\n",
       "         0.        ,  0.        ,  0.        ,  0.        ,  0.        ,\n",
       "         0.        ,  0.        ,  0.        ,  0.        ,  0.        ,\n",
       "         0.9773928 ,  0.        ]])"
      ]
     },
     "execution_count": 177,
     "metadata": {},
     "output_type": "execute_result"
    }
   ],
   "source": [
    "# age intervals\n",
    "age_upper = [\n",
    "    4,\n",
    "    9,\n",
    "    14,\n",
    "    19,\n",
    "    24,\n",
    "    19,\n",
    "    34,\n",
    "    39,\n",
    "    44,\n",
    "    49,\n",
    "    54,\n",
    "    59,\n",
    "    64,\n",
    "    69,\n",
    "    74,\n",
    "    79,\n",
    "]\n",
    "# birth rates\n",
    "a = np.array(birth_rates)*5\n",
    "\n",
    "# survival rates\n",
    "b = 1 - y2015['DEATH RATE'].astype('float32').values[:-1]\n",
    "\n",
    "b = 1 - np.array(death_rates[:-1])\n",
    "leslie_mat = leslie(a,b)\n",
    "leslie_mat"
   ]
  },
  {
   "cell_type": "code",
   "execution_count": 189,
   "metadata": {
    "collapsed": false
   },
   "outputs": [
    {
     "data": {
      "image/png": "[encoded data removed]",
      "text/plain": [
       "<matplotlib.figure.Figure at 0x15d979e8>"
      ]
     },
     "metadata": {},
     "output_type": "display_data"
    }
   ],
   "source": [
    "# plot projections for future years\n",
    "P = [np.array(bucket_population)]\n",
    "tToPlot = range(26)\n",
    "\n",
    "for _ in range(1,26):\n",
    "    P.append(np.dot(leslie_mat,P[-1]))\n",
    "\n",
    "for age_itvl in range(len(age_upper)):\n",
    "    plt.plot(tToPlot, [Pt[age_itvl] for Pt in P], label=str(age_upper[age_itvl]-4)+'-'+str(age_upper[age_itvl]) + \" yrs\")\n",
    "\n",
    "plt.legend(bbox_to_anchor=(1.3, 1))\n",
    "plt.ylabel('population in age bucket')\n",
    "plt.xlabel('time')\n",
    "plt.show()"
   ]
  },
  {
   "cell_type": "code",
   "execution_count": 182,
   "metadata": {
    "collapsed": false
   },
   "outputs": [
    {
     "name": "stdout",
     "output_type": "stream",
     "text": [
      "96\n",
      "96\n",
      "96\n"
     ]
    }
   ],
   "source": [
    "# Print the results to file\n",
    "\n",
    "lower_yrs = [0,5,10,15,20,25,30,35,40,45,50,55,60,65,70,75]\n",
    "upper_yrs = [4,9,14,19,24,29,34,39,44,49,54,59,64,69,74,79]\n",
    "\n",
    "lower_col = []\n",
    "upper_col = []\n",
    "for age in lower_yrs:\n",
    "    lower_col.extend([age]*6)\n",
    "\n",
    "for age in upper_yrs:\n",
    "    upper_col.extend([age]*6)\n",
    "\n",
    "    \n",
    "years = range(1990, 2016, 5)*len(lower_yrs)\n",
    "pop = []\n",
    "age_range = len(lower_yrs)\n",
    "for a in range(age_range):\n",
    "#     print [Pt[a] for Pt in P]\n",
    "    pop.extend([Pt[a] for Pt in P])\n",
    "\n",
    "\n",
    "print len(years)\n",
    "print len(pop)\n",
    "print len(lower_col)\n",
    "    \n",
    "df = pd.DataFrame({'Year': years, 'Age_Lower':lower_col, 'Age_Upper':upper_col, 'Population':pop})"
   ]
  },
  {
   "cell_type": "code",
   "execution_count": 183,
   "metadata": {
    "collapsed": false
   },
   "outputs": [],
   "source": [
    "df.to_csv(\"data/leslie_results_1990.csv\", sep=',',index=False)"
   ]
  },
  {
   "cell_type": "markdown",
   "metadata": {
    "collapsed": true
   },
   "source": [
    "## Eigenvalue Analysis"
   ]
  },
  {
   "cell_type": "code",
   "execution_count": 163,
   "metadata": {
    "collapsed": false
   },
   "outputs": [
    {
     "name": "stdout",
     "output_type": "stream",
     "text": [
      "long term growth rate: 1.075876\n",
      "long term composition:  [ 1.     0.927  0.858  0.795  0.739  0.687  0.638  0.593  0.55   0.511\n",
      "  0.474  0.44   0.406  0.376  0.345  0.317  0.288]\n"
     ]
    },
    {
     "name": "stderr",
     "output_type": "stream",
     "text": [
      "C:\\Users\\Sarah\\Anaconda2\\lib\\site-packages\\ipykernel\\__main__.py:10: ComplexWarning: Casting complex values to real discards the imaginary part\n"
     ]
    }
   ],
   "source": [
    "eigen = eig(leslie_mat)\n",
    "evals = eigen[0]\n",
    "evecs = eigen[1]\n",
    "\n",
    "i = np.argmax(evals)\n",
    "dominant_eval = evals[i]\n",
    "norm = abs(evecs[:,i])\n",
    "composition = norm / max(norm)\n",
    "\n",
    "print \"long term growth rate: %0.6f\" % dominant_eval\n",
    "print \"long term composition: \", np.round(composition, 3)"
   ]
  },
  {
   "cell_type": "markdown",
   "metadata": {},
   "source": [
    "# Compartmental"
   ]
  },
  {
   "cell_type": "code",
   "execution_count": 164,
   "metadata": {
    "collapsed": true
   },
   "outputs": [],
   "source": [
    "# ODE APPROACH CONSTANTS\n",
    "b = 0.01270\n",
    "mu = 0.00799\n",
    "beta = 1/22.0 # working age \n",
    "gamma = 1/43.0 \n",
    "x0 = np.sum(y2015[y2015['AGE GROUP'].isin(['<4', '5-14'])]['POPULATION'].astype('float32').values)\n",
    "y0 = np.sum(y2015[y2015['AGE GROUP'].isin(['15-24', '25-34', '35-44', '45-54', '55-64'])]['POPULATION'].astype('float32').values)\n",
    "z0 = np.sum(y2015[y2015['AGE GROUP'].isin(['65-74', '75+'])]['POPULATION'].astype('float32').values)\n",
    "\n",
    "# For variable birth/death\n",
    "bs = {'C': 0.0007, 'W':0.0415, 'R':0.0}\n",
    "mus = {'C':0.0001668, 'W':0.004043, 'R':0.085992}"
   ]
  },
  {
   "cell_type": "markdown",
   "metadata": {},
   "source": [
    "### Gonzalez-Parra and Arenas Analytical Scaled Solution"
   ]
  },
  {
   "cell_type": "code",
   "execution_count": 165,
   "metadata": {
    "collapsed": true
   },
   "outputs": [],
   "source": [
    "# http://www.scielo.org.co/scielo.php?script=sci_arttext&pid=S1794-91652014000100003\n",
    "def C(t):\n",
    "    b = bs['C']\n",
    "    mu = mus['C']\n",
    "    return (b + np.exp(-1*beta*t)*(-1*b + beta*x0)) / beta\n",
    "\n",
    "def W(t):\n",
    "    b = bs['W']\n",
    "    mu = mus['W']\n",
    "    return ( (b*np.exp(gamma*t)/gamma) + \n",
    "        ((-1*b + beta*x0)*np.exp(gamma*t - beta*t)/(gamma - beta)) -\n",
    "        ((b*beta - gamma*beta*x0 + y0*gamma**2 - y0*gamma*beta)/(gamma*(-1*gamma + beta))) ) * np.exp(-1*gamma*t)\n",
    "\n",
    "def R(t):\n",
    "    b = bs['R']\n",
    "    mu = mus['R']\n",
    "    t1 = (-1*b*t + (np.exp(-1*beta*t)*(-1*b + beta*x0))/beta ) * (gamma/(-1*gamma + beta))\n",
    "    t2 =  -1 * (np.exp(-1*gamma*t)*(b*beta - gamma*beta*x0 + y0*gamma**2 - y0*gamma*beta) / (gamma*(-1*gamma + beta))) * (gamma/(-1*gamma + beta))\n",
    "    t3 = (b*t + (b*beta  - gamma*beta*x0 - y0*gamma*beta - z0*gamma*beta + gamma*b)/(gamma*beta)) * (gamma/(-1*gamma + beta))\n",
    "    t4 = (np.exp(-1*gamma*t)*(b*beta - gamma*beta*x0 + y0*gamma**2 - y0*gamma*beta) / (gamma*(-1*gamma + beta)) + b*t) * (beta/(-1*gamma + beta))\n",
    "    t5 = ((-b*beta + gamma*beta*x0 + y0*gamma*beta + z0*gamma*beta - gamma*b)/(gamma*beta) - b*t) * (beta/(-1*gamma + beta))\n",
    "    return t1 + t2 + t3 + t4 + t5\n",
    "\n",
    "times = np.linspace(0,26,26)\n",
    "c = [C(t) for t in times]\n",
    "w = [W(t) for t in times]\n",
    "r = [R(t) for t in times]\n"
   ]
  },
  {
   "cell_type": "markdown",
   "metadata": {},
   "source": [
    "### Gonzalez-Parra and Arenas Unscaled Solution"
   ]
  },
  {
   "cell_type": "code",
   "execution_count": 166,
   "metadata": {
    "collapsed": true
   },
   "outputs": [],
   "source": [
    "def pop_path_unscaled(path,t):\n",
    "    C,W,R = path\n",
    "    P=float(C+W+R)\n",
    "    dcdt = b*P - beta*C\n",
    "    dwdt = beta*C - gamma*W\n",
    "    drdt = gamma*W - P*mu\n",
    "    return [dcdt, dwdt, drdt]"
   ]
  },
  {
   "cell_type": "markdown",
   "metadata": {},
   "source": [
    "### New ODE - Unscaled"
   ]
  },
  {
   "cell_type": "code",
   "execution_count": 171,
   "metadata": {
    "collapsed": false
   },
   "outputs": [
    {
     "data": {
      "image/png": "[encoded data removed]",
      "text/plain": [
       "<matplotlib.figure.Figure at 0x146af908>"
      ]
     },
     "metadata": {},
     "output_type": "display_data"
    }
   ],
   "source": [
    "def pop_path(path, t):\n",
    "    muc = mus['C']\n",
    "    muw = mus['W']\n",
    "    mur = mus['R']\n",
    "    beta = 1/22.0 # working age \n",
    "    gamma = 1/43.0 \n",
    "    b = (bs['C'] + bs['W'] + bs['R']) / 3\n",
    "    C,W,R = path\n",
    "    \n",
    "    dcdt = b*(C + W + R) - (beta - muc)*C\n",
    "    dwdt = beta*C - (gamma-muw)*W\n",
    "    drdt = gamma*W - mur*R\n",
    "    \n",
    "    return [dcdt, dwdt, drdt]\n",
    "    \n",
    "\n",
    "path0 = [x0,y0,z0]\n",
    "\n",
    "path_out = odeint(pop_path, path0, times)\n",
    "path_out2 = odeint(pop_path_unscaled, path0, times)\n",
    "\n",
    "plt.figure(figsize=(12,8));\n",
    "plt.plot(times,path_out[:,0],label='odeint children', color=\"blue\")\n",
    "plt.plot(times,path_out[:,1],label='odeint workers', color=\"red\")\n",
    "plt.plot(times,path_out[:,2],label='odeint retirees', color=\"green\")\n",
    "plt.plot(times,c, color=\"blue\", label=\"gonzalez-para scaled children\", ls='--')\n",
    "plt.plot(times,w, color=\"red\", label=\"gonzalez-para scaled workers\", ls='--')\n",
    "plt.plot(times,r, color=\"green\", label=\"gonzalez-para  scaled retirees\", ls='--')\n",
    "plt.plot(times,path_out2[:,0], color=\"blue\", label=\"gonzalez-para unscaled children\", ls=':')\n",
    "plt.plot(times,path_out2[:,1], color=\"red\", label=\"gonzalez-para unscaled workers\", ls=':')\n",
    "plt.plot(times,path_out2[:,2], color=\"green\", label=\"gonzalez-para unscaled retirees\", ls=':')\n",
    "plt.legend(loc='best')\n",
    "plt.ylabel('population in age bucket')\n",
    "plt.xlabel('time')\n",
    "plt.show()"
   ]
  },
  {
   "cell_type": "code",
   "execution_count": 152,
   "metadata": {
    "collapsed": false
   },
   "outputs": [
    {
     "name": "stdout",
     "output_type": "stream",
     "text": [
      "78\n",
      "26\n",
      "78\n"
     ]
    }
   ],
   "source": [
    "# Write results to file\n",
    "year1 = 2015\n",
    "n_years = path_out.shape[0]\n",
    "years = [year1 + i for i in range(n_years)] * 3\n",
    "\n",
    "pops = list(path_out[:,0])\n",
    "pops.extend(list(path_out[:,1]))\n",
    "pops.extend(list(path_out[:,2]))\n",
    "\n",
    "groups = ['C'] * n_years\n",
    "groups.extend(['W']*n_years)\n",
    "groups.extend(['R']*n_years)\n",
    "\n",
    "df2 = pd.DataFrame({'Year':years, 'Group':groups, 'Population':pops})\n",
    "df2.to_csv(\"data/ode_results_2015.csv\", sep=',',index=False)"
   ]
  },
  {
   "cell_type": "markdown",
   "metadata": {
    "collapsed": true
   },
   "source": [
    "# Death Rates"
   ]
  },
  {
   "cell_type": "code",
   "execution_count": 124,
   "metadata": {
    "collapsed": true
   },
   "outputs": [],
   "source": [
    "death = pd.read_csv(\"data/death.txt\", delimiter=\"\\t\")"
   ]
  },
  {
   "cell_type": "code",
   "execution_count": 125,
   "metadata": {
    "collapsed": false
   },
   "outputs": [],
   "source": [
    "death = death[death[\"Notes\"] != \"Total\"]\n",
    "death['DeathRate'] = death['Crude Rate'].values/100000\n",
    "pert = pd.DataFrame({'Year':death['Year'], 'AgeGroup':death['Ten-Year Age Groups'], 'Population': death['Population'], 'Deaths':death['Deaths'], 'DeathRate': death['DeathRate']})"
   ]
  },
  {
   "cell_type": "code",
   "execution_count": 126,
   "metadata": {
    "collapsed": false
   },
   "outputs": [
    {
     "data": {
      "text/html": [
       "<div>\n",
       "<table border=\"1\" class=\"dataframe\">\n",
       "  <thead>\n",
       "    <tr style=\"text-align: right;\">\n",
       "      <th></th>\n",
       "      <th>AgeGroup</th>\n",
       "      <th>DeathRate</th>\n",
       "      <th>Deaths</th>\n",
       "      <th>Population</th>\n",
       "      <th>Year</th>\n",
       "    </tr>\n",
       "  </thead>\n",
       "  <tbody>\n",
       "    <tr>\n",
       "      <th>0</th>\n",
       "      <td>&lt; 1 year</td>\n",
       "      <td>0.007360</td>\n",
       "      <td>27937</td>\n",
       "      <td>3795762</td>\n",
       "      <td>1999.0</td>\n",
       "    </tr>\n",
       "    <tr>\n",
       "      <th>1</th>\n",
       "      <td>&lt; 1 year</td>\n",
       "      <td>0.007367</td>\n",
       "      <td>28035</td>\n",
       "      <td>3805648</td>\n",
       "      <td>2000.0</td>\n",
       "    </tr>\n",
       "    <tr>\n",
       "      <th>2</th>\n",
       "      <td>&lt; 1 year</td>\n",
       "      <td>0.006870</td>\n",
       "      <td>27568</td>\n",
       "      <td>4012658</td>\n",
       "      <td>2001.0</td>\n",
       "    </tr>\n",
       "    <tr>\n",
       "      <th>3</th>\n",
       "      <td>&lt; 1 year</td>\n",
       "      <td>0.007095</td>\n",
       "      <td>28034</td>\n",
       "      <td>3951461</td>\n",
       "      <td>2002.0</td>\n",
       "    </tr>\n",
       "    <tr>\n",
       "      <th>4</th>\n",
       "      <td>&lt; 1 year</td>\n",
       "      <td>0.007049</td>\n",
       "      <td>28025</td>\n",
       "      <td>3975871</td>\n",
       "      <td>2003.0</td>\n",
       "    </tr>\n",
       "  </tbody>\n",
       "</table>\n",
       "</div>"
      ],
      "text/plain": [
       "   AgeGroup  DeathRate  Deaths  Population    Year\n",
       "0  < 1 year   0.007360   27937     3795762  1999.0\n",
       "1  < 1 year   0.007367   28035     3805648  2000.0\n",
       "2  < 1 year   0.006870   27568     4012658  2001.0\n",
       "3  < 1 year   0.007095   28034     3951461  2002.0\n",
       "4  < 1 year   0.007049   28025     3975871  2003.0"
      ]
     },
     "execution_count": 126,
     "metadata": {},
     "output_type": "execute_result"
    }
   ],
   "source": [
    "pert.head()"
   ]
  },
  {
   "cell_type": "code",
   "execution_count": 127,
   "metadata": {
    "collapsed": false
   },
   "outputs": [],
   "source": [
    "to_5 = pert[pert['AgeGroup'].isin(['< 1 year', '1-4 years'])]\n",
    "years = range(1999, 2016)\n",
    "\n",
    "deaths = []\n",
    "combined_pop = []\n",
    "deathrates = []\n",
    "for year in years:\n",
    "    pop = np.sum((to_5[to_5['Year'] == year])['Population'])\n",
    "    death = np.sum((to_5[to_5['Year'] == year])['Deaths'])\n",
    "    deathrate = death / float(pop)\n",
    "    deaths.append(death)\n",
    "    combined_pop.append(pop)\n",
    "    deathrates.append(deathrate)\n",
    "    \n",
    "agegroup = ['0-4']*len(years)\n",
    "death2 = pd.DataFrame({'AgeGroup': agegroup, 'DeathRate':deathrates, 'Deaths': deaths, 'Population':combined_pop, 'Year':years})"
   ]
  },
  {
   "cell_type": "code",
   "execution_count": 129,
   "metadata": {
    "collapsed": false
   },
   "outputs": [],
   "source": [
    "pert = pert[-(pert['AgeGroup'].isin(['< 1 year', '1-4 years']))]\n",
    "frames = [death2, pert]\n",
    "result = pd.concat(frames)\n",
    "result.to_csv('data/death.csv',sep=',',index=False)"
   ]
  },
  {
   "cell_type": "code",
   "execution_count": 154,
   "metadata": {
    "collapsed": false
   },
   "outputs": [
    {
     "data": {
      "text/html": [
       "<div>\n",
       "<table border=\"1\" class=\"dataframe\">\n",
       "  <thead>\n",
       "    <tr style=\"text-align: right;\">\n",
       "      <th></th>\n",
       "      <th>AgeGroup</th>\n",
       "      <th>DeathRate</th>\n",
       "      <th>Deaths</th>\n",
       "      <th>Population</th>\n",
       "      <th>Year</th>\n",
       "    </tr>\n",
       "  </thead>\n",
       "  <tbody>\n",
       "    <tr>\n",
       "      <th>0</th>\n",
       "      <td>0-4</td>\n",
       "      <td>0.001734</td>\n",
       "      <td>33186</td>\n",
       "      <td>19135544</td>\n",
       "      <td>1999.0</td>\n",
       "    </tr>\n",
       "    <tr>\n",
       "      <th>1</th>\n",
       "      <td>0-4</td>\n",
       "      <td>0.001722</td>\n",
       "      <td>33014</td>\n",
       "      <td>19175798</td>\n",
       "      <td>2000.0</td>\n",
       "    </tr>\n",
       "    <tr>\n",
       "      <th>2</th>\n",
       "      <td>0-4</td>\n",
       "      <td>0.001693</td>\n",
       "      <td>32675</td>\n",
       "      <td>19298217</td>\n",
       "      <td>2001.0</td>\n",
       "    </tr>\n",
       "    <tr>\n",
       "      <th>3</th>\n",
       "      <td>0-4</td>\n",
       "      <td>0.001693</td>\n",
       "      <td>32892</td>\n",
       "      <td>19429192</td>\n",
       "      <td>2002.0</td>\n",
       "    </tr>\n",
       "    <tr>\n",
       "      <th>4</th>\n",
       "      <td>0-4</td>\n",
       "      <td>0.001684</td>\n",
       "      <td>32990</td>\n",
       "      <td>19592446</td>\n",
       "      <td>2003.0</td>\n",
       "    </tr>\n",
       "  </tbody>\n",
       "</table>\n",
       "</div>"
      ],
      "text/plain": [
       "  AgeGroup  DeathRate  Deaths  Population    Year\n",
       "0      0-4   0.001734   33186    19135544  1999.0\n",
       "1      0-4   0.001722   33014    19175798  2000.0\n",
       "2      0-4   0.001693   32675    19298217  2001.0\n",
       "3      0-4   0.001693   32892    19429192  2002.0\n",
       "4      0-4   0.001684   32990    19592446  2003.0"
      ]
     },
     "execution_count": 154,
     "metadata": {},
     "output_type": "execute_result"
    }
   ],
   "source": [
    "result.head()"
   ]
  },
  {
   "cell_type": "code",
   "execution_count": 155,
   "metadata": {
    "collapsed": false
   },
   "outputs": [
    {
     "data": {
      "text/html": [
       "<div>\n",
       "<table border=\"1\" class=\"dataframe\">\n",
       "  <thead>\n",
       "    <tr style=\"text-align: right;\">\n",
       "      <th></th>\n",
       "      <th>YEAR</th>\n",
       "      <th>AGE GROUP</th>\n",
       "      <th>POPULATION</th>\n",
       "      <th>BIRTH RATE</th>\n",
       "      <th>DEATH RATE</th>\n",
       "      <th>Unnamed: 5</th>\n",
       "      <th>Unnamed: 6</th>\n",
       "      <th>Unnamed: 7</th>\n",
       "      <th>Unnamed: 8</th>\n",
       "      <th>Unnamed: 9</th>\n",
       "    </tr>\n",
       "  </thead>\n",
       "  <tbody>\n",
       "    <tr>\n",
       "      <th>0</th>\n",
       "      <td>1990</td>\n",
       "      <td>&lt;4</td>\n",
       "      <td>18887075.0</td>\n",
       "      <td>0.0000</td>\n",
       "      <td>0.003161</td>\n",
       "      <td>NaN</td>\n",
       "      <td>NaN</td>\n",
       "      <td>NaN</td>\n",
       "      <td>NaN</td>\n",
       "      <td>NaN</td>\n",
       "    </tr>\n",
       "    <tr>\n",
       "      <th>1</th>\n",
       "      <td>1990</td>\n",
       "      <td>5-14</td>\n",
       "      <td>35360381.0</td>\n",
       "      <td>0.0014</td>\n",
       "      <td>0.000175</td>\n",
       "      <td>NaN</td>\n",
       "      <td>NaN</td>\n",
       "      <td>NaN</td>\n",
       "      <td>NaN</td>\n",
       "      <td>NaN</td>\n",
       "    </tr>\n",
       "    <tr>\n",
       "      <th>2</th>\n",
       "      <td>1990</td>\n",
       "      <td>15-24</td>\n",
       "      <td>36193896.0</td>\n",
       "      <td>0.0882</td>\n",
       "      <td>0.000526</td>\n",
       "      <td>NaN</td>\n",
       "      <td>NaN</td>\n",
       "      <td>NaN</td>\n",
       "      <td>NaN</td>\n",
       "      <td>NaN</td>\n",
       "    </tr>\n",
       "    <tr>\n",
       "      <th>3</th>\n",
       "      <td>1990</td>\n",
       "      <td>25-34</td>\n",
       "      <td>42574509.0</td>\n",
       "      <td>0.1005</td>\n",
       "      <td>0.001034</td>\n",
       "      <td>NaN</td>\n",
       "      <td>NaN</td>\n",
       "      <td>NaN</td>\n",
       "      <td>NaN</td>\n",
       "      <td>NaN</td>\n",
       "    </tr>\n",
       "    <tr>\n",
       "      <th>4</th>\n",
       "      <td>1990</td>\n",
       "      <td>35-44</td>\n",
       "      <td>37649458.0</td>\n",
       "      <td>0.0186</td>\n",
       "      <td>0.002296</td>\n",
       "      <td>NaN</td>\n",
       "      <td>NaN</td>\n",
       "      <td>NaN</td>\n",
       "      <td>NaN</td>\n",
       "      <td>NaN</td>\n",
       "    </tr>\n",
       "    <tr>\n",
       "      <th>5</th>\n",
       "      <td>1990</td>\n",
       "      <td>45-54</td>\n",
       "      <td>25242747.0</td>\n",
       "      <td>0.0002</td>\n",
       "      <td>0.005383</td>\n",
       "      <td>NaN</td>\n",
       "      <td>NaN</td>\n",
       "      <td>NaN</td>\n",
       "      <td>NaN</td>\n",
       "      <td>NaN</td>\n",
       "    </tr>\n",
       "    <tr>\n",
       "      <th>6</th>\n",
       "      <td>1990</td>\n",
       "      <td>55-64</td>\n",
       "      <td>21096727.0</td>\n",
       "      <td>0.0000</td>\n",
       "      <td>0.010976</td>\n",
       "      <td>NaN</td>\n",
       "      <td>NaN</td>\n",
       "      <td>NaN</td>\n",
       "      <td>NaN</td>\n",
       "      <td>NaN</td>\n",
       "    </tr>\n",
       "    <tr>\n",
       "      <th>7</th>\n",
       "      <td>1990</td>\n",
       "      <td>65-74</td>\n",
       "      <td>18121686.0</td>\n",
       "      <td>0.0000</td>\n",
       "      <td>0.022607</td>\n",
       "      <td>NaN</td>\n",
       "      <td>NaN</td>\n",
       "      <td>NaN</td>\n",
       "      <td>NaN</td>\n",
       "      <td>NaN</td>\n",
       "    </tr>\n",
       "    <tr>\n",
       "      <th>8</th>\n",
       "      <td>1990</td>\n",
       "      <td>75+</td>\n",
       "      <td>13181238.0</td>\n",
       "      <td>0.0000</td>\n",
       "      <td>0.149377</td>\n",
       "      <td>NaN</td>\n",
       "      <td>NaN</td>\n",
       "      <td>NaN</td>\n",
       "      <td>NaN</td>\n",
       "      <td>NaN</td>\n",
       "    </tr>\n",
       "  </tbody>\n",
       "</table>\n",
       "</div>"
      ],
      "text/plain": [
       "   YEAR AGE GROUP  POPULATION  BIRTH RATE  DEATH RATE  Unnamed: 5  Unnamed: 6  \\\n",
       "0  1990        <4  18887075.0      0.0000    0.003161         NaN         NaN   \n",
       "1  1990      5-14  35360381.0      0.0014    0.000175         NaN         NaN   \n",
       "2  1990     15-24  36193896.0      0.0882    0.000526         NaN         NaN   \n",
       "3  1990     25-34  42574509.0      0.1005    0.001034         NaN         NaN   \n",
       "4  1990     35-44  37649458.0      0.0186    0.002296         NaN         NaN   \n",
       "5  1990     45-54  25242747.0      0.0002    0.005383         NaN         NaN   \n",
       "6  1990     55-64  21096727.0      0.0000    0.010976         NaN         NaN   \n",
       "7  1990     65-74  18121686.0      0.0000    0.022607         NaN         NaN   \n",
       "8  1990       75+  13181238.0      0.0000    0.149377         NaN         NaN   \n",
       "\n",
       "   Unnamed: 7  Unnamed: 8  Unnamed: 9  \n",
       "0         NaN         NaN         NaN  \n",
       "1         NaN         NaN         NaN  \n",
       "2         NaN         NaN         NaN  \n",
       "3         NaN         NaN         NaN  \n",
       "4         NaN         NaN         NaN  \n",
       "5         NaN         NaN         NaN  \n",
       "6         NaN         NaN         NaN  \n",
       "7         NaN         NaN         NaN  \n",
       "8         NaN         NaN         NaN  "
      ]
     },
     "execution_count": 155,
     "metadata": {},
     "output_type": "execute_result"
    }
   ],
   "source": [
    "y2015"
   ]
  },
  {
   "cell_type": "code",
   "execution_count": 170,
   "metadata": {
    "collapsed": false
   },
   "outputs": [],
   "source": [
    "y1990 = y2015[y2015['AGE GROUP'] == \"<4\"]"
   ]
  },
  {
   "cell_type": "code",
   "execution_count": 171,
   "metadata": {
    "collapsed": false
   },
   "outputs": [
    {
     "data": {
      "text/html": [
       "<div>\n",
       "<table border=\"1\" class=\"dataframe\">\n",
       "  <thead>\n",
       "    <tr style=\"text-align: right;\">\n",
       "      <th></th>\n",
       "      <th>YEAR</th>\n",
       "      <th>AGE GROUP</th>\n",
       "      <th>POPULATION</th>\n",
       "      <th>BIRTH RATE</th>\n",
       "      <th>DEATH RATE</th>\n",
       "      <th>Unnamed: 5</th>\n",
       "      <th>Unnamed: 6</th>\n",
       "      <th>Unnamed: 7</th>\n",
       "      <th>Unnamed: 8</th>\n",
       "      <th>Unnamed: 9</th>\n",
       "    </tr>\n",
       "  </thead>\n",
       "  <tbody>\n",
       "    <tr>\n",
       "      <th>0</th>\n",
       "      <td>1990</td>\n",
       "      <td>&lt;4</td>\n",
       "      <td>18887075.0</td>\n",
       "      <td>0.0</td>\n",
       "      <td>0.003161</td>\n",
       "      <td>NaN</td>\n",
       "      <td>NaN</td>\n",
       "      <td>NaN</td>\n",
       "      <td>NaN</td>\n",
       "      <td>NaN</td>\n",
       "    </tr>\n",
       "  </tbody>\n",
       "</table>\n",
       "</div>"
      ],
      "text/plain": [
       "   YEAR AGE GROUP  POPULATION  BIRTH RATE  DEATH RATE  Unnamed: 5  Unnamed: 6  \\\n",
       "0  1990        <4  18887075.0         0.0    0.003161         NaN         NaN   \n",
       "\n",
       "   Unnamed: 7  Unnamed: 8  Unnamed: 9  \n",
       "0         NaN         NaN         NaN  "
      ]
     },
     "execution_count": 171,
     "metadata": {},
     "output_type": "execute_result"
    }
   ],
   "source": [
    "y1990"
   ]
  },
  {
   "cell_type": "code",
   "execution_count": null,
   "metadata": {
    "collapsed": true
   },
   "outputs": [],
   "source": []
  }
 ],
 "metadata": {
  "anaconda-cloud": {},
  "kernelspec": {
   "display_name": "Python [Root]",
   "language": "python",
   "name": "Python [Root]"
  },
  "language_info": {
   "codemirror_mode": {
    "name": "ipython",
    "version": 2
   },
   "file_extension": ".py",
   "mimetype": "text/x-python",
   "name": "python",
   "nbconvert_exporter": "python",
   "pygments_lexer": "ipython2",
   "version": "2.7.12"
  }
 },
 "nbformat": 4,
 "nbformat_minor": 0
}
