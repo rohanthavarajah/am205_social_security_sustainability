{
 "cells": [
  {
   "cell_type": "markdown",
   "metadata": {},
   "source": [
    "# Code for Simulating Social Security Fund Amount over Time"
   ]
  },
  {
   "cell_type": "code",
   "execution_count": 21,
   "metadata": {
    "collapsed": true
   },
   "outputs": [],
   "source": [
    "import matplotlib.pyplot as plt\n",
    "%matplotlib inline  \n",
    "import numpy as np\n",
    "import pandas as pd\n",
    "from IPython.display import display, HTML"
   ]
  },
  {
   "cell_type": "markdown",
   "metadata": {},
   "source": [
    "# Interpolating by Last 2 Years"
   ]
  },
  {
   "cell_type": "code",
   "execution_count": 22,
   "metadata": {
    "collapsed": true
   },
   "outputs": [],
   "source": [
    "def find_expenditures_fundamt():\n",
    "    \"\"\"Read in the \"truth\" containing expenditures per year and amount left in fund each year\"\"\"\n",
    "    p = pd.read_csv('data/Expenditures.csv')\n",
    "    d = p.set_index('Year').to_dict()\n",
    "    expenditures = d['Average monthy payment ']\n",
    "    amount_in_fund = d['Amount in Fund']\n",
    "    return expenditures, amount_in_fund\n",
    "    \n",
    "def find_incomes(workers):\n",
    "    \"\"\"Finds the average income of the people in the workers bucket per year\"\"\"\n",
    "    p = pd.read_csv('data/Income.csv')\n",
    "    p['Age_Group'] = 'O'\n",
    "    p.loc[np.logical_and(p['AGE GROUP LOWER'] >= workers[0],p['AGE GROUP UPPER'] <= workers[1]), 'Age_Group'] = 'W'\n",
    "    del p['AGE GROUP UPPER']\n",
    "    del p['AGE GROUP LOWER']\n",
    "    pop = p.groupby(['Year',\"Age_Group\"]).mean()\n",
    "    return pop.to_dict()['MEDIAN INCOME']\n",
    "\n",
    "def income_line_of_best_fit(year,year_start,n_years,income_data):\n",
    "    \"\"\"Use income data if available, otherwise interpolate data through a line of best fit\"\"\"\n",
    "    x = range(1990,2016)\n",
    "    if year in x: #if we already have the data for this year, return known value\n",
    "        return income_data[(year,'W')]\n",
    "    else: #otherwise, we interpolate\n",
    "        y = []\n",
    "        years = [year-i for i in range(1,3)]\n",
    "        for i in range(1,3):\n",
    "            y.append(income_data[(year-i,'W')])\n",
    "        line = np.poly1d(np.polyfit(years, y, 1))\n",
    "        return line[0] + line[1]*year\n",
    "            \n",
    "def retiree_line_of_best_fit(year,year_start,n_years,pop_data):\n",
    "    \"\"\"Use retiree population data if available, otherwise interpolate data through a line of best fit\"\"\"\n",
    "    x = range(1990,2016)\n",
    "    if year in x: #if we already have the data for this year, return known value\n",
    "        return pop_data[(year,'R')]\n",
    "    else: #otherwise, we interpolate\n",
    "        y = []\n",
    "        years = [year-i for i in range(1,3)]\n",
    "        for i in range(1,3):\n",
    "            y.append(pop_data[(year-i,'R')])\n",
    "        line = np.poly1d(np.polyfit(years, y, 1))\n",
    "        return line[0] + line[1]*year\n",
    "    \n",
    "def worker_line_of_best_fit(year,year_start,n_years,pop_data):\n",
    "    \"\"\"Use worker population data if available, otherwise interpolate data through a line of best fit\"\"\"\n",
    "    x = range(1990,2016)\n",
    "    if year in x:\n",
    "        return pop_data[(year,'W')]\n",
    "    else:\n",
    "        y = []\n",
    "        years = [year-i for i in range(1,3)]\n",
    "        for i in range(1,3):\n",
    "            y.append(pop_data[(year-i,'W')])\n",
    "        line = np.poly1d(np.polyfit(years, y, 1))\n",
    "        return line[0] + line[1]*year\n",
    "    \n",
    "def expenditure_line_of_best_fit(year,year_start,n_years,expenditures):\n",
    "    \"\"\"Use expenditure data if available, otherwise interpolate data through a line of best fit\"\"\"\n",
    "    x = range(1990,2016)\n",
    "    if year in x:\n",
    "        return expenditures[year]\n",
    "    else:\n",
    "        y = []\n",
    "        years = [year-i for i in range(1,3)]\n",
    "        for i in range(1,3):\n",
    "            y.append(expenditures[year-i])\n",
    "        line = np.poly1d(np.polyfit(years, y, 1))\n",
    "        return line[0] + line[1]*year"
   ]
  },
  {
   "cell_type": "code",
   "execution_count": 30,
   "metadata": {
    "collapsed": false
   },
   "outputs": [],
   "source": [
    "def simulator(workers_range, age_of_retirement, percent_given_to_govt, starting_year, number_years):\n",
    "    \"\"\"Calculates amt_in_fund + percent_given_to_govt*average_income*#workers - average_expenditure/month*12*#retirees\"\"\"\n",
    "    pop_data = find_worker_retiree_populations(workers_range, age_of_retirement)\n",
    "    expenditures, fundamt = find_expenditures_fundamt()\n",
    "\n",
    "    starting_amt_in_fund = fundamt[starting_year]\n",
    "    fund_amount = [starting_amt_in_fund]\n",
    "    incomes_dictionary = find_incomes(workers_range)\n",
    "    \n",
    "    for i in range(number_years):\n",
    "        \"\"\"Call functions that interpolate if needed and update\"\"\"\n",
    "        workers = worker_line_of_best_fit(starting_year+i+1,starting_year,number_years,pop_data)\n",
    "        retirees = retiree_line_of_best_fit(starting_year+i+1,starting_year,number_years,pop_data)\n",
    "        income = income_line_of_best_fit(starting_year+i+1,starting_year,number_years,incomes_dictionary)\n",
    "        pop_data[(starting_year+i+1,'R')] = retirees\n",
    "        pop_data[(starting_year+i+1,'W')] = workers\n",
    "        incomes_dictionary[(starting_year+i+1,'W')] = income\n",
    "    \n",
    "        expend = expenditure_line_of_best_fit(starting_year+i+1,starting_year,number_years,expenditures)\n",
    "        expenditures[starting_year+i+1] = expend\n",
    "        \n",
    "        \"\"\"Calculate amount coming in and going out\"\"\"\n",
    "        coming_in = percent_given_to_govt*income*workers\n",
    "        going_out = expend*12*retirees\n",
    "        fund_amount.append(fund_amount[-1] + coming_in - going_out) #update fund amt\n",
    "        \n",
    "        if fund_amount[-1] <= 0: #if fund ran out, return the year\n",
    "            return fund_amount, starting_year+i+1\n",
    "    \n",
    "    return fund_amount, 0\n",
    "\n",
    "\n",
    "def run_simulator(start_year,filename,workers=[15,64],retirement_age=65,rate=0.1052,n_years=500):\n",
    "    fund_hypothetical, end_year = simulator(workers, retirement_age, rate, start_year, n_years)\n",
    "    \n",
    "    fund_actual = []\n",
    "    x, amt_in_fnd = find_expenditures_fundamt()\n",
    "    for i in range(1990,2016):\n",
    "        fund_actual.append(amt_in_fnd[i])\n",
    "\n",
    "    if end_year != 0:\n",
    "        print \"Fund Ran Out in: \", end_year\n",
    "        plt.plot(range(1990,2016), fund_actual, color='red', label = \"Actual Fund Amount\")\n",
    "        plt.plot(range(year_start,end_year+1), fund_hypothetical, color='green', label='Predicted Fund Amount')\n",
    "        leg = plt.legend(loc = 'lower right')\n",
    "        plt.title(\"Fund Ran Out in: \"+ str(end_year))\n",
    "    \n",
    "    else:\n",
    "        plt.plot(range(1990,2016), fund_actual, color='red', label = \"Actual Fund Amount\")\n",
    "        plt.plot(range(year_start,year_start+n_years+1), fund_hypothetical, color='green', label='Predicted Fund Amount')\n",
    "        leg = plt.legend(loc = 'lower right')\n",
    "    plt.savefig(filename+'.png' ,bbox_extra_artists=(leg,), bbox_inches='tight')"
   ]
  },
  {
   "cell_type": "markdown",
   "metadata": {},
   "source": [
    "# Using True Population Data"
   ]
  },
  {
   "cell_type": "code",
   "execution_count": 33,
   "metadata": {
    "collapsed": false
   },
   "outputs": [],
   "source": [
    "#Using the \"truth\" population data \n",
    "def find_worker_retiree_populations(workers, retirees):\n",
    "    \"\"\"Produces dictionary: (year, group)-> population where groups are 'W','R', or 'C'\"\"\"\n",
    "    p = pd.read_csv('data/PopulationDataIndividualAge.csv')\n",
    "    p['Age_Group'] = 'O'\n",
    "    p.loc[np.logical_and(p['AGE LOWER'] >= workers[0],p['AGE UPPER'] <= workers[1]), 'Age_Group'] = 'W'\n",
    "    p.loc[p['AGE UPPER'] < workers[0], 'Age_Group'] = 'C'\n",
    "    p.loc[p['AGE LOWER'] >= retirees, 'Age_Group'] = 'R' \n",
    "    del p['AGE UPPER']\n",
    "    del p['AGE LOWER']\n",
    "\n",
    "    pop = p.groupby(['YEAR',\"Age_Group\"]).sum()\n",
    "    return pop.to_dict()['POPULATION']\n"
   ]
  },
  {
   "cell_type": "code",
   "execution_count": 37,
   "metadata": {
    "collapsed": false
   },
   "outputs": [
    {
     "name": "stdout",
     "output_type": "stream",
     "text": [
      "Fund Ran Out in:  2038\n"
     ]
    },
    {
     "data": {
      "image/png": "[encoded data removed]",
      "text/plain": [
       "<matplotlib.figure.Figure at 0x1189cf090>"
      ]
     },
     "metadata": {},
     "output_type": "display_data"
    }
   ],
   "source": [
    "year_start = 2015\n",
    "n_years = 50\n",
    "rate = 0.1025\n",
    "run_simulator(start_year=year_start,filename='truth_data_fund',workers=[15,64],retirement_age=65,rate=rate,n_years=n_years)\n"
   ]
  }
 ],
 "metadata": {
  "anaconda-cloud": {},
  "kernelspec": {
   "display_name": "Python [py27]",
   "language": "python",
   "name": "Python [py27]"
  },
  "language_info": {
   "codemirror_mode": {
    "name": "ipython",
    "version": 2
   },
   "file_extension": ".py",
   "mimetype": "text/x-python",
   "name": "python",
   "nbconvert_exporter": "python",
   "pygments_lexer": "ipython2",
   "version": "2.7.12"
  }
 },
 "nbformat": 4,
 "nbformat_minor": 0
}
